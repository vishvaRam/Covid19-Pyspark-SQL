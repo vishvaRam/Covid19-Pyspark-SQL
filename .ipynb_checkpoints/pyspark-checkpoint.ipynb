{
 "cells": [
  {
   "cell_type": "code",
   "execution_count": 1,
   "id": "af97dbfc-64d0-4bc0-87c9-5d7f47f8339d",
   "metadata": {},
   "outputs": [],
   "source": [
    "# import pyspark"
   ]
  },
  {
   "cell_type": "code",
   "execution_count": 16,
   "id": "53abf784-9c06-4dcc-b6a9-67467efaccfa",
   "metadata": {},
   "outputs": [],
   "source": [
    "from pyspark.sql import SparkSession\n",
    "from pyspark.sql.functions import col"
   ]
  },
  {
   "cell_type": "code",
   "execution_count": 5,
   "id": "1eab9b05-626a-4201-bc0a-0bd6cebebf33",
   "metadata": {},
   "outputs": [],
   "source": [
    "spark = SparkSession.builder.appName(\"PySpark_Basic\").getOrCreate()"
   ]
  },
  {
   "cell_type": "code",
   "execution_count": 6,
   "id": "56c2e162-f27f-481e-b52f-384126f90aa1",
   "metadata": {},
   "outputs": [
    {
     "data": {
      "text/html": [
       "\n",
       "            <div>\n",
       "                <p><b>SparkSession - in-memory</b></p>\n",
       "                \n",
       "        <div>\n",
       "            <p><b>SparkContext</b></p>\n",
       "\n",
       "            <p><a href=\"http://Vishva.mshome.net:4040\">Spark UI</a></p>\n",
       "\n",
       "            <dl>\n",
       "              <dt>Version</dt>\n",
       "                <dd><code>v3.2.1</code></dd>\n",
       "              <dt>Master</dt>\n",
       "                <dd><code>local[*]</code></dd>\n",
       "              <dt>AppName</dt>\n",
       "                <dd><code>PySpark_Basic</code></dd>\n",
       "            </dl>\n",
       "        </div>\n",
       "        \n",
       "            </div>\n",
       "        "
      ],
      "text/plain": [
       "<pyspark.sql.session.SparkSession at 0x18fcbde0af0>"
      ]
     },
     "execution_count": 6,
     "metadata": {},
     "output_type": "execute_result"
    }
   ],
   "source": [
    "spark"
   ]
  },
  {
   "cell_type": "code",
   "execution_count": 21,
   "id": "6d6023af-aad2-411e-b5a4-17bc91173892",
   "metadata": {
    "tags": []
   },
   "outputs": [],
   "source": [
    "df_spark = spark.read.csv('titanic.csv',header=True,inferSchema=True)"
   ]
  },
  {
   "cell_type": "code",
   "execution_count": 22,
   "id": "304d66b0-2b13-4c87-b15a-a373d16ade0c",
   "metadata": {},
   "outputs": [
    {
     "data": {
      "text/plain": [
       "DataFrame[_c0: int, PassengerId: int, Survived: int, Sex: int, Age: double, Fare: double, Pclass_1: int, Pclass_2: int, Pclass_3: int, Family_size: double, Title_1: int, Title_2: int, Title_3: int, Title_4: int, Emb_1: int, Emb_2: int, Emb_3: int]"
      ]
     },
     "execution_count": 22,
     "metadata": {},
     "output_type": "execute_result"
    }
   ],
   "source": [
    "df_spark"
   ]
  },
  {
   "cell_type": "code",
   "execution_count": 24,
   "id": "5ea59a25-2e58-4841-abbb-20df8fa48e49",
   "metadata": {},
   "outputs": [
    {
     "data": {
      "text/plain": [
       "[Row(_c0=0, PassengerId=1, Survived=0, Sex=1, Age=0.275, Fare=0.014151057562208049, Pclass_1=0, Pclass_2=0, Pclass_3=1, Family_size=0.1, Title_1=1, Title_2=0, Title_3=0, Title_4=0, Emb_1=0, Emb_2=0, Emb_3=1)]"
      ]
     },
     "execution_count": 24,
     "metadata": {},
     "output_type": "execute_result"
    }
   ],
   "source": [
    "df_spark.head(1)"
   ]
  },
  {
   "cell_type": "code",
   "execution_count": 10,
   "id": "a794aeaf-3d5d-4ccc-9373-0060f55077a9",
   "metadata": {},
   "outputs": [
    {
     "name": "stdout",
     "output_type": "stream",
     "text": [
      "root\n",
      " |-- _c0: integer (nullable = true)\n",
      " |-- PassengerId: integer (nullable = true)\n",
      " |-- Survived: integer (nullable = true)\n",
      " |-- Sex: integer (nullable = true)\n",
      " |-- Age: double (nullable = true)\n",
      " |-- Fare: double (nullable = true)\n",
      " |-- Pclass_1: integer (nullable = true)\n",
      " |-- Pclass_2: integer (nullable = true)\n",
      " |-- Pclass_3: integer (nullable = true)\n",
      " |-- Family_size: double (nullable = true)\n",
      " |-- Title_1: integer (nullable = true)\n",
      " |-- Title_2: integer (nullable = true)\n",
      " |-- Title_3: integer (nullable = true)\n",
      " |-- Title_4: integer (nullable = true)\n",
      " |-- Emb_1: integer (nullable = true)\n",
      " |-- Emb_2: integer (nullable = true)\n",
      " |-- Emb_3: integer (nullable = true)\n",
      "\n"
     ]
    }
   ],
   "source": [
    "df_spark.printSchema()"
   ]
  },
  {
   "cell_type": "code",
   "execution_count": 11,
   "id": "e9811858-89ea-4204-acb6-ca3bed39c2d1",
   "metadata": {},
   "outputs": [
    {
     "name": "stdout",
     "output_type": "stream",
     "text": [
      "+--------+\n",
      "|Survived|\n",
      "+--------+\n",
      "|       0|\n",
      "|       1|\n",
      "|       1|\n",
      "|       1|\n",
      "|       0|\n",
      "|       0|\n",
      "|       0|\n",
      "|       0|\n",
      "|       1|\n",
      "|       1|\n",
      "|       1|\n",
      "|       1|\n",
      "|       0|\n",
      "|       0|\n",
      "|       0|\n",
      "|       1|\n",
      "|       0|\n",
      "|       1|\n",
      "|       0|\n",
      "|       1|\n",
      "+--------+\n",
      "only showing top 20 rows\n",
      "\n"
     ]
    }
   ],
   "source": [
    "df_spark.select('Survived').show()"
   ]
  },
  {
   "cell_type": "code",
   "execution_count": 12,
   "id": "096b1742-5d6f-41f9-b8f6-78e11d60e081",
   "metadata": {},
   "outputs": [
    {
     "name": "stderr",
     "output_type": "stream",
     "text": [
      "Access is denied.\n"
     ]
    }
   ],
   "source": [
    "!pip install numpy"
   ]
  },
  {
   "cell_type": "code",
   "execution_count": null,
   "id": "f70decca-659a-4c63-b70b-2dd59482ed12",
   "metadata": {},
   "outputs": [],
   "source": []
  },
  {
   "cell_type": "code",
   "execution_count": 20,
   "id": "186059b3-c94a-4d53-8d7b-1e71785aebea",
   "metadata": {},
   "outputs": [
    {
     "name": "stdout",
     "output_type": "stream",
     "text": [
      "_c0 0\n",
      "PassengerId 0\n",
      "Survived 0\n",
      "Sex 0\n",
      "Age 0\n",
      "Fare 0\n",
      "Pclass_1 0\n",
      "Pclass_2 0\n",
      "Pclass_3 0\n",
      "Family_size 0\n",
      "Title_1 0\n",
      "Title_2 0\n",
      "Title_3 0\n",
      "Title_4 0\n",
      "Emb_1 0\n",
      "Emb_2 0\n",
      "Emb_3 0\n"
     ]
    }
   ],
   "source": [
    "for columns in df_spark.columns:\n",
    "    print(columns,df_spark.filter(col(columns).isin([None,np.nan])).count())"
   ]
  },
  {
   "cell_type": "code",
   "execution_count": null,
   "id": "28ef6391-052e-41f0-80bf-9ac99f8e620e",
   "metadata": {},
   "outputs": [],
   "source": []
  }
 ],
 "metadata": {
  "kernelspec": {
   "display_name": "Python 3 (ipykernel)",
   "language": "python",
   "name": "python3"
  },
  "language_info": {
   "codemirror_mode": {
    "name": "ipython",
    "version": 3
   },
   "file_extension": ".py",
   "mimetype": "text/x-python",
   "name": "python",
   "nbconvert_exporter": "python",
   "pygments_lexer": "ipython3",
   "version": "3.8.13"
  }
 },
 "nbformat": 4,
 "nbformat_minor": 5
}
